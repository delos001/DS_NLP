{
 "cells": [
  {
   "cell_type": "markdown",
   "metadata": {},
   "source": [
    "# Reuters 'Crude' Article Analysis\n",
    "\n",
    "- Based on code and procedure from the Stanford NLP Deep Learning\n",
    "    - found in DS_Recipes/NLP/Stanford Class\n",
    "    - this file will exclude the instruction and sample code found in the tutorial and only focus on the analysis of the Reuters data set"
   ]
  },
  {
   "cell_type": "markdown",
   "metadata": {},
   "source": [
    "## Word Vectors\n",
    "\n",
    "- Word vectors and word embeddings are used interchangeably\n",
    "    - specify a word's meaning by changing from high one-dimensional space to a continuous vector that is a much lower dimension\n",
    "        - This is like taking the word 'run' and encoding as a vector of continuous numbers such as:\n",
    "            [1.002, -2.033, -9.881, 13.032, ..., 2.818] \n",
    "            \n",
    "- Word vectors center around idea that similar words have similar context, and thus will be relatively proximal to a shared subset of words\n",
    "\n",
    "## In this script:\n",
    "- Two main types of word vectors / word embeddings used in this script:\n",
    "    - Count-based word vectors: co-occurrence matrix\n",
    "    - Prediction-based word vectors: word2vec"
   ]
  },
  {
   "cell_type": "markdown",
   "metadata": {},
   "source": [
    "# Packages and Global Variables\n",
    "- this may not be all inclusive as more may be more approriately run at beginning"
   ]
  },
  {
   "cell_type": "code",
   "execution_count": 1,
   "metadata": {},
   "outputs": [],
   "source": [
    "\n",
    "import sys\n",
    "assert sys.version_info[0] == 3\n",
    "assert sys.version_info[1] >= 5\n",
    "\n",
    "import pprint\n",
    "\n",
    "from gensim.models import KeyedVectors\n",
    "from gensim.test.utils import datapath\n",
    "\n",
    "import matplotlib.pyplot as plt\n",
    "plt.rcParams['figure.figsize'] = [10, 5]\n",
    "\n",
    "import nltk\n",
    "## download preloaded dataset (10,788 documents, 1.3 mil words)\n",
    "## https://www.nltk.org/book/ch02.html\n",
    "## uncomment download line below if not already downloaded\n",
    "# nltk.download('reuters') \n",
    "from nltk.corpus import reuters\n",
    "\n",
    "import numpy as np\n",
    "import random\n",
    "import scipy as sp\n",
    "\n",
    "## Used for dimension reduction on co-occurrence matrix\n",
    "from sklearn.decomposition import TruncatedSVD\n",
    "from sklearn.decomposition import PCA\n",
    "\n",
    "## Generate global variablesabs\n",
    "## Start and End tokens will be applied to beginning\n",
    "##   and end of each document\n",
    "START_TOKEN = '<START>'\n",
    "END_TOKEN = '<END>'\n",
    "\n",
    "np.random.seed(0)\n",
    "random.seed(0)"
   ]
  },
  {
   "cell_type": "markdown",
   "metadata": {},
   "source": [
    "# Read Corpus\n",
    "- Reuters corpus contain 90 categories that are split into train and test\n",
    "- for this project, the Reuters corpus will be subset to only include the \"Crude\" category which includes articles about oil, gas, etc\n",
    "- https://www.nltk.org/book/ch02.html"
   ]
  },
  {
   "cell_type": "code",
   "execution_count": 46,
   "metadata": {},
   "outputs": [],
   "source": [
    "'''\n",
    "Parameters:\n",
    "    category is a string referring to the Reuters category type\n",
    "Return: \n",
    "    a list of lists: a list of the words from each file\n",
    "'''\n",
    "\n",
    "\n",
    "def read_corpus(category='crude'):\n",
    "    files = reuters.fileids(category)\n",
    "    return[[START_TOKEN] + [w.lower() for w in list(reuters.words(f))] + [END_TOKEN] for f in files]"
   ]
  },
  {
   "cell_type": "code",
   "execution_count": 47,
   "metadata": {},
   "outputs": [],
   "source": [
    "# Review article in the Reuters corpus selected for crude category\n",
    "\n",
    "# Remove and run to test-----------\n",
    "#my_corpus = read_corpus()\n",
    "#pprint.pprint(my_corpus[:1], compact=True, width=100)"
   ]
  },
  {
   "cell_type": "markdown",
   "metadata": {},
   "source": [
    "# Obtain Distinct Words\n",
    "- try to avoid for loops since they are slower\n",
    "- instead use set comprehensions"
   ]
  },
  {
   "cell_type": "code",
   "execution_count": 48,
   "metadata": {},
   "outputs": [],
   "source": [
    "'''\n",
    "Parameters:\n",
    "    corpus: list of list from read file defined above\n",
    "Return:\n",
    "    corpus_words: list of string, distinct words across corpus, sorted\n",
    "    num_corpus_words: number of distinct words across corpus\n",
    "'''\n",
    "\n",
    "def distinct_words(corpus):\n",
    "    corpus_words_dist = sorted(list(set([word for doc in corpus for word in doc])))\n",
    "    corpus_words_dist_cnt = len(corpus_words_dist)\n",
    "    return corpus_words_dist, corpus_words_dist_cnt"
   ]
  },
  {
   "cell_type": "code",
   "execution_count": 49,
   "metadata": {},
   "outputs": [],
   "source": [
    "# Test run distinct_words function\n",
    "#    print last 50 unique words and the number of unique words in corpus\n",
    "\n",
    "# Remove and run to test-----------\n",
    "#corpus_words_dist, corpus_words_dist_cnt = distinct_words(my_corpus)\n",
    "#print(corpus_words_dist[-50:])\n",
    "#print(corpus_words_dist_cnt)\n"
   ]
  },
  {
   "cell_type": "markdown",
   "metadata": {},
   "source": [
    "# Vector Analysis Methods"
   ]
  },
  {
   "cell_type": "markdown",
   "metadata": {},
   "source": [
    "## Count-Based Word Vector: Co-occurrence matrix\n",
    "\n",
    "- count of how often words co-occur with each other in a document based on a specified window\n",
    "    - a window of size $n$ means $n$ preceeding words and $n$ subsequent words in the document where $w_i$ is the word of interest\n",
    "        - $w_{i-n} \\dots w_{i-1}$, $w_i$, $w_{i+1} \\dots w_{i+n}$\n",
    "        \n",
    "        - iterating over the document in word by word fashion, each word becomes $w_i$ and the number of times $w_i$ occurs with other words in the window $n$ are counted and entered in a symetric matrix"
   ]
  },
  {
   "cell_type": "code",
   "execution_count": 50,
   "metadata": {},
   "outputs": [],
   "source": [
    "\"\"\" Compute co-occurrence matrix for the given corpus and window_size (default of 4).\n",
    "\n",
    "    Note: Each word in a document should be at the center of a window. Words near edges will have a smaller\n",
    "          number of co-occurring words.\n",
    "\n",
    "          For example, if we take the document \"START All that glitters is not gold END\" with window size of 4,\n",
    "          \"All\" will co-occur with \"START\", \"that\", \"glitters\", \"is\", and \"not\".\n",
    "\n",
    "    Params:\n",
    "        corpus (list of list of strings): corpus of documents\n",
    "        window_size (int): size of context window\n",
    "    Return:\n",
    "        M (numpy matrix of shape (number of corpus words, number of corpus words)): \n",
    "            Co-occurence matrix of word counts. \n",
    "            The ordering of the words in the rows/columns should be the same as the ordering of the words given by the distinct_words function.\n",
    "        word2Idx (dict): dictionary that maps word to index (i.e. row/column number) for matrix M.\n",
    "\"\"\"\n",
    "\n",
    "def compute_co_occurrence_matrix(corpus, window_size):\n",
    "\n",
    "    \n",
    "    # call the distinct words function to use unique words\n",
    "    corpus_words_dist, corpus_words_dist_cnt = distinct_words(corpus)\n",
    "    \n",
    "    M = None       # set to none at start of function\n",
    "    word2Idx = {}  # set to blank at start of function\n",
    "\n",
    "    # Create a matrix based on size of corpus after runing distinct_words function\n",
    "    M = np.zeros((corpus_words_dist_cnt, corpus_words_dist_cnt))  # create n by n matrix\n",
    "    \n",
    "    # Creates an word:index dictionary of entire unique word corpus\n",
    "    word2Idx = dict(zip(corpus_words_dist, range(corpus_words_dist_cnt)))\n",
    "\n",
    "    # Loop through each document (list of words) in corpus\n",
    "    for doc in corpus:\n",
    "        \n",
    "        # cur_idx will be the index number of each word within that document\n",
    "        # -used to sysematically go through each word (0 to len(doc)) and find words\n",
    "        # -that are window_size positions before and after that word\n",
    "        cur_idx = 0         # resets at 0 at start of each document\n",
    "        doc_len = len(doc)  # word count of each document\n",
    "        \n",
    "        ## while index is between zero and document length\n",
    "        while cur_idx < doc_len:\n",
    "            # far left and far right index numbers (based on cur_idx & window_size)\n",
    "            l_bound = max(cur_idx - window_size, 0)   # max excludes negative indices\n",
    "            r_bound = min(cur_idx + window_size + 1, doc_len)   # min stops at doc_len\n",
    "            \n",
    "            # all words for this iterations window index numbers (l_bound to r_bound)\n",
    "            window_words = doc[l_bound:cur_idx] + doc[(cur_idx + 1):r_bound]\n",
    "            \n",
    "            # get the word associated with the cur_idx\n",
    "            center_word = doc[cur_idx]\n",
    "            \n",
    "            # using that center_word, get it's index number within the entire corpus\n",
    "            #center_idx = word2Idx[center_word]\n",
    "\n",
    "            # Now that we have all the words in a specific window, count the number\n",
    "            # of times each word in the word window appears near the center word in\n",
    "            # the full corpus (within the window size)\n",
    "            for window_word in window_words:\n",
    "                # get full corpus dict index for the window word\n",
    "                window_idx = word2Idx[window_word]\n",
    "                # add 1 in matrix M for each window match\n",
    "                M[window_idx, word2Idx[center_word]] += 1\n",
    "                \n",
    "            cur_idx += 1\n",
    "            \n",
    "    return M, word2Idx"
   ]
  },
  {
   "cell_type": "markdown",
   "metadata": {},
   "source": [
    "### Reduce Matrix Dimensionality\n",
    "\n",
    "- The resulting matrix from compute_co_occurrence_matrix is a large sparse matrix of shape:\n",
    "    - distinct words rows x distinct words columns\n",
    "- Singular Value Decomposition (SVD) is a generalized PCA to select top k principal components thus reducing the dimensionality and improving processing time while keeping semantic relationships between words\n",
    "    - SVD is computationally expensive so trucated SVD can provide k vector components if k is expected to be small\n",
    "        - https://scikit-learn.org/stable/modules/generated/sklearn.decomposition.TruncatedSVD.html\n",
    "        - All of numpy, scipy, and scikit-learn (sklearn) provide some implementation of SVD, but\n",
    "        - Only scipy and sklearn provide an implementation of Truncated SVD, and \n",
    "        - Only sklearn provides an efficient randomized algorithm for calculating large-scale Truncated SVD\n",
    "        \n",
    "    \n",
    "    "
   ]
  },
  {
   "cell_type": "code",
   "execution_count": 83,
   "metadata": {},
   "outputs": [],
   "source": [
    "\"\"\" \n",
    "Reduce a co-occurence count matrix of dimensionality (num_corpus_words, num_corpus_words)\n",
    "    to a matrix of dimensionality (num_corpus_words, k) using the following SVD function from Scikit-Learn:\n",
    "        - http://scikit-learn.org/stable/modules/generated/sklearn.decomposition.TruncatedSVD.html\n",
    "\n",
    "    Params:\n",
    "        M (numpy matrix of shape (number of corpus words, number of corpus words)): co-occurence matrix of word counts\n",
    "        k (int): embedding size of each word after dimension reduction\n",
    "    Return:\n",
    "        M_reduced (numpy matrix of shape (number of corpus words, k)): matrix of k-dimensioal word embeddings.\n",
    "                In terms of the SVD from math class, this actually returns U * S\n",
    "\"\"\"\n",
    "\n",
    "\n",
    "def reduce_to_k_dim(M, k):\n",
    "\n",
    "    n_iters = 10     # Use this parameter in your call to `TruncatedSVD`\n",
    "    seed = 42  # set seed\n",
    "    # create new blank M_reduced (reset each time function is run)\n",
    "    M_reduced = None\n",
    "    print(\"Running Truncated SVD over %i words...\" % (M.shape[0]))\n",
    "\n",
    "    tsvd = TruncatedSVD(n_components=k,\n",
    "                        n_iter=n_iters,\n",
    "                        random_state=seed)\n",
    "    M_reduced = tsvd.fit_transform(M)\n",
    "\n",
    "    print(\"Done.\")\n",
    "    return M_reduced"
   ]
  },
  {
   "cell_type": "markdown",
   "metadata": {},
   "source": [
    "### Plot M_reduced Word Embeddings\n",
    "\n",
    "- 2D vectors plotted using Matplotlib"
   ]
  },
  {
   "cell_type": "code",
   "execution_count": 84,
   "metadata": {},
   "outputs": [],
   "source": [
    "\"\"\" Plot in a scatterplot the embeddings of the words specified in the list \"words\".\n",
    "        NOTE: do not plot all the words listed in M_reduced / word2Idx.\n",
    "        Include a label next to each point.\n",
    "        \n",
    "        Params:\n",
    "            M_reduced (numpy matrix of shape (number of unique words in the corpus , k)): matrix of k-dimensioal word embeddings\n",
    "            word2Idx (dict): dictionary that maps word to indices for matrix M\n",
    "            words (list of strings): words whose embeddings we want to visualize\n",
    "\"\"\"\n",
    "\n",
    "def plot_embeddings(M_reduced, word2Idx, words):\n",
    "    x_coords = M_reduced[:, 0]\n",
    "    y_coords = M_reduced[:, 1]\n",
    "    \n",
    "    for word in words:\n",
    "        idx = word2Idx[word]\n",
    "        M_reduced_word = M_reduced[idx]\n",
    "        x = M_reduced_word[0]\n",
    "        y = M_reduced_word[1]\n",
    "        \n",
    "        plt.scatter(x, y, marker='x', color='red')\n",
    "        plt.text(x, y, word, fontsize=8)\n",
    "        "
   ]
  },
  {
   "cell_type": "markdown",
   "metadata": {},
   "source": [
    "### Combine Functions with Co-occurrence Matrix"
   ]
  },
  {
   "cell_type": "code",
   "execution_count": 85,
   "metadata": {},
   "outputs": [
    {
     "name": "stdout",
     "output_type": "stream",
     "text": [
      "Running Truncated SVD over 8185 words...\n",
      "Done.\n"
     ]
    },
    {
     "data": {
      "image/png": "[encoded data removed]",
      "text/plain": [
       "<Figure size 432x288 with 1 Axes>"
      ]
     },
     "metadata": {
      "needs_background": "light"
     },
     "output_type": "display_data"
    }
   ],
   "source": [
    "\n",
    "reuters_corpus = read_corpus()\n",
    "my_corpus = reuters_corpus\n",
    "\n",
    "M_co_occurrence, word2Idx_co_occrrence = compute_co_occurrence_matrix(my_corpus, window_size = 4)\n",
    "M_reduced_co_occurrence = reduce_to_k_dim(M_co_occurrence, k = 2)\n",
    "\n",
    "# Rescale rows to make them each of unit-length\n",
    "M_lengths = np.linalg.norm(M_reduced_co_occurrence, axis = 1)\n",
    "M_normalized = M_reduced_co_occurrence / M_lengths[:, np.newaxis] # uses numpy array broadcasting\n",
    "\n",
    "words = ['barrels', 'bpd', 'ecuador', 'energy', 'industry',\n",
    "         'kuwait', 'oil', 'output', 'petroleum', 'venezuela']\n",
    "plot_embeddings(M_normalized, word2Idx_co_occrrence, words)"
   ]
  },
  {
   "cell_type": "code",
   "execution_count": null,
   "metadata": {},
   "outputs": [],
   "source": [
    "# Note the output above: some clusters seem to align while others are where we would expect them"
   ]
  },
  {
   "cell_type": "code",
   "execution_count": null,
   "metadata": {},
   "outputs": [],
   "source": []
  },
  {
   "cell_type": "markdown",
   "metadata": {},
   "source": [
    "## Prediction-based word vectors: word2vec\n",
    "- using Word2Vec skip-gram model\n",
    "    - develop vector representation of a center word such that it predicts nearby words\n",
    "    - see paper: https://papers.nips.cc/paper/5021-distributed-representations-of-words-and-phrases-and-their-compositionality.pdf"
   ]
  },
  {
   "cell_type": "code",
   "execution_count": 41,
   "metadata": {},
   "outputs": [],
   "source": [
    "def load_word2vec():\n",
    "    \n",
    "    import gensim.downloader as api\n",
    "    \n",
    "    wv_from_bin = api.load('word2vec-google-news-300')\n",
    "    vocab = list(wv_from_bin.vocab.keys())\n",
    "    \n",
    "    print('Loaded vocab size %i' % len(vocab))\n",
    "    return wv_from_bin"
   ]
  },
  {
   "cell_type": "code",
   "execution_count": 42,
   "metadata": {},
   "outputs": [
    {
     "name": "stdout",
     "output_type": "stream",
     "text": [
      "[==================================================] 100.0% 1662.8/1662.8MB downloaded\n",
      "Loaded vocab size 3000000\n"
     ]
    }
   ],
   "source": [
    "# Note: setting variable wv_from_bin retains attributes such as\n",
    "    # .vocab.keys, .word_vec, .most_similar, .distance, etc\n",
    "\n",
    "wv_from_bin = load_word2vec()"
   ]
  },
  {
   "cell_type": "markdown",
   "metadata": {},
   "source": [
    "### Reduce Word2Vec Dimensionality\n",
    "\n",
    "- Compare word2vec embeddings to co-occurrence embeddings\n",
    "    - create matrix M with 3 mil word2vec vectors\n",
    "    - reduce_to_k_dim (truncated SVD function created above):\n",
    "        - reduce from 300-dimensional to 2-dimensional"
   ]
  },
  {
   "cell_type": "code",
   "execution_count": 86,
   "metadata": {},
   "outputs": [],
   "source": [
    "\"\"\"\n",
    "Put word2vec vectors into matrix M\n",
    "\n",
    "Param:\n",
    "    wv_from_bin: vector object with keys (3mil word2vec vectors loaded from file)\n",
    "\n",
    "Return:\n",
    "    M: numpy matrix of shape (num words, 300) containing the vectors\n",
    "    word2Idx: dictionary mapping each word to its row in M\n",
    "\"\"\"\n",
    "\n",
    "\n",
    "def get_matrix_of_vectors(wv_from_bin,\n",
    "                          # try adding additional words if you want\n",
    "                          required_words=['barrels', 'bpd', 'ecuador',\n",
    "                                          'energy', 'industry', 'kuwait',\n",
    "                                          'oil', 'output', 'petroleum',\n",
    "                                          'venezuela']):\n",
    "\n",
    "    import random\n",
    "\n",
    "    words = list(wv_from_bin.vocab.keys())\n",
    "\n",
    "    print('Shuffling words...')\n",
    "    random.shuffle(words)\n",
    "    words = words[:10000]\n",
    "\n",
    "    print('Putting %i words into word2Idx and matrix M...' % len(words))\n",
    "    word2Idx = {}\n",
    "    M = []\n",
    "    curIdx = 0\n",
    "    for word in words:\n",
    "        try:\n",
    "            M.append(wv_from_bin.word_vec(word))\n",
    "            word2Idx[word] = curIdx\n",
    "            curIdx += 1\n",
    "        except KeyError:\n",
    "            continue\n",
    "        for word in required_words:\n",
    "            try:\n",
    "                M.append(wv_from_bin.word_vec(word))\n",
    "                word2Idx[word] = curIdx\n",
    "                curIdx += 1\n",
    "            except KeyError:\n",
    "                continue\n",
    "        M = np.stack(M)\n",
    "        print('Done')\n",
    "\n",
    "        return M, word2Idx"
   ]
  },
  {
   "cell_type": "code",
   "execution_count": 87,
   "metadata": {},
   "outputs": [
    {
     "name": "stdout",
     "output_type": "stream",
     "text": [
      "Shuffling words...\n",
      "Putting 10000 words into word2Idx and matrix M...\n",
      "Done\n",
      "Running Truncated SVD over 11 words...\n",
      "Done.\n"
     ]
    }
   ],
   "source": [
    "# Run function to reduce from 300-dim word embeddings to k dimensionsabs\n",
    "M, word2Idx = get_matrix_of_vectors(wv_from_bin)\n",
    "M_reduced = reduce_to_k_dim(M, k = 2)"
   ]
  },
  {
   "cell_type": "markdown",
   "metadata": {},
   "source": [
    "### Plot Word2Vec Analysis\n",
    "\n",
    "- compare this output to that of the co-occurrence matrix plotted earlier"
   ]
  },
  {
   "cell_type": "code",
   "execution_count": 90,
   "metadata": {},
   "outputs": [
    {
     "data": {
      "image/png": "[encoded data removed]",
      "text/plain": [
       "<Figure size 720x360 with 1 Axes>"
      ]
     },
     "metadata": {
      "needs_background": "light"
     },
     "output_type": "display_data"
    }
   ],
   "source": [
    "# make sure words matches those in function above\n",
    "words = ['barrels', 'bpd', 'ecuador', 'energy', 'industry', 'kuwait',\n",
    "         'oil', 'output', 'petroleum','venezuela']\n",
    "\n",
    "plot_embeddings(M_reduced, word2Idx, words)"
   ]
  },
  {
   "cell_type": "markdown",
   "metadata": {},
   "source": [
    "- compare this to the co-occurrence matrix plot: groupings appear to be a little better"
   ]
  },
  {
   "cell_type": "code",
   "execution_count": null,
   "metadata": {},
   "outputs": [],
   "source": []
  },
  {
   "cell_type": "markdown",
   "metadata": {},
   "source": [
    "### Cosine Similarity\n",
    "- Distance between words can be used to quantify similarities of those words\n",
    "- Cosine Similarity between vectors p and q can be expressed in terms:\n",
    "    $$s = \\frac{p \\cdot q}{||p|| ||q||}, \\textrm{ where } s \\in [-1, 1] $$ \n",
    "    \n",
    "\n",
    "### Polysemous Words\n",
    "- Words that can express more than one meaning\n",
    "- Identify the top 10 more similar words using cosine similarity:\n",
    "    - As noted above, proximal words theoretically would have greater similarity\n",
    "- wv_from_bin.most_similar(word) is the funciton used to get the top 10 similar words\n",
    "    - ranks all words in vocabulary with respect to their cosine similarity to given word\n",
    "    - GenSim documentation: https://radimrehurek.com/gensim/models/keyedvectors.html#gensim.models.keyedvectors.FastTextKeyedVectors.most_similar\n"
   ]
  },
  {
   "cell_type": "code",
   "execution_count": 79,
   "metadata": {},
   "outputs": [
    {
     "data": {
      "text/plain": [
       "[('summer', 0.7650764584541321),\n",
       " ('winter', 0.6890672445297241),\n",
       " ('autumn', 0.6658838987350464),\n",
       " ('springtime', 0.653981626033783),\n",
       " ('midsummer', 0.5891797542572021),\n",
       " ('Punxsutawney_Phil_predicts', 0.550977349281311),\n",
       " ('Spring', 0.550716757774353),\n",
       " ('week', 0.5474802255630493),\n",
       " ('fall', 0.5415068864822388),\n",
       " ('summertime', 0.5398696660995483)]"
      ]
     },
     "execution_count": 79,
     "metadata": {},
     "output_type": "execute_result"
    }
   ],
   "source": [
    "# Find polysemous words using .most_similar function:\n",
    "\n",
    "# .most_similar() takes a word from the corpus, based on probabilities\n",
    "#      defaults topn is 10, see link above for other function parameters\n",
    "# Note: depending on corpus size, can take some time to run\n",
    "\n",
    "# testing different words: leaves, scoop, run, king, challenge\n",
    "wv_from_bin.most_similar('spring')"
   ]
  },
  {
   "cell_type": "markdown",
   "metadata": {},
   "source": [
    "### Synonym and Antonyms\n",
    "\n",
    "- Can be more convenient to think of cosine distance: 1-cosine_similarity\n",
    "- Using three words (w1, w2, w3) where:\n",
    "    - w1 and w2 are synonyms\n",
    "    - w1 and w3 are antonyms\n",
    "    - cosine distance (w1, w3) < cosine distance (w1, w2)\n",
    "        - ex: w1='happy' is closer to w3='sad' than to w2='cheerful'\n",
    "- uses wv_from_bin.distance() function\n",
    "- Gensim documentation: https://radimrehurek.com/gensim/models/keyedvectors.html#gensim.models.keyedvectors.FastTextKeyedVectors.distance"
   ]
  },
  {
   "cell_type": "code",
   "execution_count": 97,
   "metadata": {},
   "outputs": [
    {
     "name": "stdout",
     "output_type": "stream",
     "text": [
      "Synonyms big, grand have cosine distance 0.7428221702575684\n",
      "Antonyms big, small have cosine distance 0.5041321516036987\n"
     ]
    }
   ],
   "source": [
    "\n",
    "# specify w1, w2, w3 for testinabsg\n",
    "w1 = 'big'\n",
    "w2 = 'grand'\n",
    "w3 = 'small'\n",
    "\n",
    "# get cosine distance between words\n",
    "w1w2_dist = wv_from_bin.distance(w1, w2)\n",
    "w1w3_dist = wv_from_bin.distance(w1, w3)\n",
    "\n",
    "print('Synonyms {}, {} have cosine distance {}'.format(w1, w2, w1w2_dist))\n",
    "print('Antonyms {}, {} have cosine distance {}'.format(w1, w3, w1w3_dist))"
   ]
  },
  {
   "cell_type": "markdown",
   "metadata": {},
   "source": [
    "- Notice that 'big'-'grand' cosine distance is larger than 'grand'-'small' cosine distance implying that 'grand' is more similar to 'small' than is 'big'\n",
    "    - this may be because polysemous results"
   ]
  },
  {
   "cell_type": "code",
   "execution_count": null,
   "metadata": {},
   "outputs": [],
   "source": []
  },
  {
   "cell_type": "markdown",
   "metadata": {},
   "source": [
    "### Solving Analogies with Word Vectors\n",
    "\n",
    "- word2vec vectors have had some success solving analogies\n",
    "    - ie: man:king :: woman:x, what is x\n",
    "- Using .most_similar function, we find:\n",
    "    - most similar words in the positive list and \n",
    "    - most disimilar words in negative list\n",
    "        - answers will be the word ranked most similar (largest numerical value)\n",
    " GenSim documentations: https://radimrehurek.com/gensim/models/keyedvectors.html#gensim.models.keyedvectors.FastTextKeyedVectors.most_similar"
   ]
  },
  {
   "cell_type": "code",
   "execution_count": 114,
   "metadata": {},
   "outputs": [
    {
     "name": "stdout",
     "output_type": "stream",
     "text": [
      "[('queen', 0.7118192911148071),\n",
      " ('monarch', 0.6189674139022827),\n",
      " ('princess', 0.5902431607246399),\n",
      " ('crown_prince', 0.5499460697174072),\n",
      " ('prince', 0.5377321243286133),\n",
      " ('kings', 0.5236844420433044),\n",
      " ('Queen_Consort', 0.5235945582389832),\n",
      " ('queens', 0.5181134343147278),\n",
      " ('sultan', 0.5098593235015869),\n",
      " ('monarchy', 0.5087411999702454)]\n"
     ]
    }
   ],
   "source": [
    "# Solve analogy\n",
    "\n",
    "pprint.pprint(wv_from_bin.most_similar(positive=['woman', 'king'], negative=['man']))\n",
    "\n",
    "# get first in list (highest number)\n",
    "#pprint.pprint(wv_from_bin.most_similar(positive=['woman', 'king'], negative=['man'])[0])"
   ]
  },
  {
   "cell_type": "code",
   "execution_count": 121,
   "metadata": {},
   "outputs": [
    {
     "name": "stdout",
     "output_type": "stream",
     "text": [
      "('carpenter', 0.5728063583374023)\n"
     ]
    }
   ],
   "source": [
    "# Solve analogy 2\n",
    "# stone:mason :: wood:x  (x should be carpenter)\n",
    "pprint.pprint(wv_from_bin.most_similar(positive=['wood', 'mason'], negative=['stone'])[0])"
   ]
  },
  {
   "cell_type": "markdown",
   "metadata": {},
   "source": [
    "### Analysis of Bias in Word Vectors\n",
    "\n",
    "- it's important to be cognizant of gender, race, sexual orientation biases in word embeddings\n",
    "- here we look at \n",
    "    - terms most similar for 'woman' & 'boss' and most dissimilar to 'man'\n",
    "    - terms most similar to 'man' and 'boss' and most dissimilar to 'woman'"
   ]
  },
  {
   "cell_type": "code",
   "execution_count": 122,
   "metadata": {},
   "outputs": [
    {
     "name": "stdout",
     "output_type": "stream",
     "text": [
      "[('bosses', 0.5522644519805908),\n",
      " ('manageress', 0.49151360988616943),\n",
      " ('exec', 0.45940813422203064),\n",
      " ('Manageress', 0.45598435401916504),\n",
      " ('receptionist', 0.4474116563796997),\n",
      " ('Jane_Danson', 0.44480544328689575),\n",
      " ('Fiz_Jennie_McAlpine', 0.44275766611099243),\n",
      " ('Coronation_Street_actress', 0.44275566935539246),\n",
      " ('supremo', 0.4409853219985962),\n",
      " ('coworker', 0.43986251950263977)]\n",
      "\n",
      "[('supremo', 0.6097398400306702),\n",
      " ('MOTHERWELL_boss', 0.5489562153816223),\n",
      " ('CARETAKER_boss', 0.5375303626060486),\n",
      " ('Bully_Wee_boss', 0.5333974361419678),\n",
      " ('YEOVIL_Town_boss', 0.5321705341339111),\n",
      " ('head_honcho', 0.5281980037689209),\n",
      " ('manager_Stan_Ternent', 0.525971531867981),\n",
      " ('Viv_Busby', 0.5256162881851196),\n",
      " ('striker_Gabby_Agbonlahor', 0.5250812768936157),\n",
      " ('BARNSLEY_boss', 0.5238943099975586)]\n"
     ]
    }
   ],
   "source": [
    "# Here `positive` indicates the list of words to be similar to and \n",
    "#         `negative` indicates the list of words to be most dissimilar from.\n",
    "pprint.pprint(wv_from_bin.most_similar(positive=['woman', 'boss'], negative=['man']))\n",
    "print()\n",
    "pprint.pprint(wv_from_bin.most_similar(positive=['man', 'boss'], negative=['woman']))"
   ]
  },
  {
   "cell_type": "code",
   "execution_count": 127,
   "metadata": {},
   "outputs": [
    {
     "name": "stdout",
     "output_type": "stream",
     "text": [
      "[('lesbian', 0.5497785806655884),\n",
      " ('homosexual', 0.5407663583755493),\n",
      " ('homosexuals', 0.5150601863861084),\n",
      " ('gays', 0.509407639503479),\n",
      " ('hetro', 0.501957893371582),\n",
      " ('homophobia', 0.48830151557922363),\n",
      " ('heterosexual', 0.4863852858543396),\n",
      " ('gayness', 0.48594969511032104),\n",
      " ('queer', 0.4809682071208954),\n",
      " ('homosexuality', 0.4786364734172821)]\n",
      "\n",
      "[('consecutive', 0.4799199104309082),\n",
      " ('staight', 0.41569390892982483),\n",
      " ('gut_wrencher', 0.39936715364456177),\n",
      " ('loves', 0.39820700883865356),\n",
      " ('outbattle', 0.3927672505378723),\n",
      " ('heartbreaker', 0.39253556728363037),\n",
      " ('loved', 0.3885837197303772),\n",
      " ('loooooove', 0.38792747259140015),\n",
      " ('passion', 0.3833823800086975),\n",
      " ('Highland_Lone_Tree', 0.3827238082885742)]\n"
     ]
    }
   ],
   "source": [
    "# Find some other words where bias appears in the results\n",
    "\n",
    "pprint.pprint(wv_from_bin.most_similar(positive=['gay', 'love'], negative=['straight']))\n",
    "print()\n",
    "pprint.pprint(wv_from_bin.most_similar(positive=['straight', 'love'], negative=['gay']))"
   ]
  },
  {
   "cell_type": "code",
   "execution_count": null,
   "metadata": {},
   "outputs": [],
   "source": []
  }
 ],
 "metadata": {
  "kernelspec": {
   "display_name": "Python 3",
   "language": "python",
   "name": "python3"
  },
  "language_info": {
   "codemirror_mode": {
    "name": "ipython",
    "version": 3
   },
   "file_extension": ".py",
   "mimetype": "text/x-python",
   "name": "python",
   "nbconvert_exporter": "python",
   "pygments_lexer": "ipython3",
   "version": "3.7.4"
  },
  "toc": {
   "base_numbering": 1,
   "nav_menu": {},
   "number_sections": true,
   "sideBar": true,
   "skip_h1_title": false,
   "title_cell": "Table of Contents",
   "title_sidebar": "Contents",
   "toc_cell": false,
   "toc_position": {},
   "toc_section_display": true,
   "toc_window_display": false
  }
 },
 "nbformat": 4,
 "nbformat_minor": 2
}
