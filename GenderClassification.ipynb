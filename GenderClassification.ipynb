{
 "cells": [
  {
   "cell_type": "code",
   "execution_count": null,
   "metadata": {},
   "outputs": [],
   "source": [
    "### Read In Files  ###"
   ]
  },
  {
   "cell_type": "code",
   "execution_count": null,
   "metadata": {},
   "outputs": [],
   "source": [
    "import os\n",
    "import pandas as pd\n",
    "\n",
    "#set working Directory to where class corpus is saved.\n",
    "\n",
    "#if using laptop\n",
    "#os.chdir('D:\\\\OneDrive - QJA\\\\My Files\\\\NW Coursework\\\\Predict 453 Natural Language Processesing\\\\Class Corpus')\n",
    "\n",
    "#if using workstation\n",
    "os.chdir('C:\\\\Users\\\\Jason\\\\OneDrive - QJA\\\\My Files\\\\NW Coursework\\\\Predict 453 Natural Language Processesing\\\\Class Corpus')\n",
    "\n",
    "data=pd.read_csv('Class Corpus.csv')"
   ]
  },
  {
   "cell_type": "code",
   "execution_count": null,
   "metadata": {},
   "outputs": [],
   "source": []
  },
  {
   "cell_type": "code",
   "execution_count": null,
   "metadata": {},
   "outputs": [],
   "source": []
  },
  {
   "cell_type": "code",
   "execution_count": null,
   "metadata": {},
   "outputs": [],
   "source": [
    "'''\n",
    "the following is an example where documents and the entire \n",
    "corpus is classified by gender.\n",
    "This is from textbook: Applied Text Analysis with Python: Bengfort et al\n",
    "'''"
   ]
  },
  {
   "cell_type": "code",
   "execution_count": null,
   "metadata": {},
   "outputs": [],
   "source": [
    "#pull single article from the data object\n",
    "#text is in 'Text' column of 15th row\n",
    "\n",
    "text_single = data['Text'].apply(str)[14]"
   ]
  },
  {
   "cell_type": "code",
   "execution_count": null,
   "metadata": {},
   "outputs": [],
   "source": [
    "type(text_single)"
   ]
  },
  {
   "cell_type": "code",
   "execution_count": null,
   "metadata": {},
   "outputs": [],
   "source": [
    "#create single string of all the DSIs (each row of the text column)\n",
    "text_all = ' '.join(data['Text'])"
   ]
  },
  {
   "cell_type": "code",
   "execution_count": null,
   "metadata": {},
   "outputs": [],
   "source": [
    "type(text_all)"
   ]
  },
  {
   "cell_type": "code",
   "execution_count": null,
   "metadata": {},
   "outputs": [],
   "source": [
    "male = 'male'\n",
    "female = 'female'\n",
    "unknown = 'unknown'\n",
    "both = 'both'\n",
    "\n",
    "male_words = set([\n",
    "    'guy', 'spokesman', 'chairman', \"men's\", 'men', 'him', \"he's\", 'his',\n",
    "    'boy', 'boyfriend', 'boyfriends', 'boys', 'brother', 'brothers', 'dad',\n",
    "    'dads', 'dude', 'duke', 'father', 'fathers', 'fiance', 'gentleman', 'gentlemen',\n",
    "    'god', 'grandfather', 'grandpa', 'grandson', 'groom', 'he', 'himself',\n",
    "    'husband', 'husbands', 'king', 'kings', 'male', 'man', 'mr', 'nephew',\n",
    "    'nephews', 'priest', 'son', 'sons', 'uncle', 'uncles', 'waiter', 'widower',\n",
    "    'widowers'\n",
    "])\n",
    "\n",
    "female_words = set([\n",
    "    'heroine', 'spokeswoman', 'chairwoman', \"women's\", 'women', 'actress', \"she's\",\n",
    "    'her', \"her's\", 'aunts', 'bride', 'daughter', 'daughters', 'female', 'fiancee',\n",
    "    'girl', 'girlfriend', 'girlfriends', 'girls', 'goddess', 'granddaughter', \n",
    "    'grandma', 'grandmother', 'herself', 'ladies', 'lady', 'mom', 'moms', 'mother',\n",
    "    'mothers', 'mrs', 'ms', 'niece', 'nieces', 'priestess', 'queens', 'she', \n",
    "    'sister', 'sisters', 'waitress', 'widow','widows', 'wife', 'wives', 'woman'\n",
    "])"
   ]
  },
  {
   "cell_type": "code",
   "execution_count": null,
   "metadata": {},
   "outputs": [],
   "source": [
    "#method to assign gender to a sentence\n",
    "\n",
    "def genderize(words):\n",
    "    #counts number of times male and female words object \"words\" are found\n",
    "    #in the male_words list from above\n",
    "    mwlen = len(male_words.intersection(words))\n",
    "    fwlen = len(female_words.intersection(words))\n",
    "    \n",
    "    if mwlen > 0 and fwlen == 0:\n",
    "        return male\n",
    "    \n",
    "    elif mwlen == 0 and fwlen > 0:\n",
    "        return female\n",
    "    \n",
    "    elif mwlen > 0 and fwlen > 0:\n",
    "        return both\n",
    "    \n",
    "    else:\n",
    "        return unknown"
   ]
  },
  {
   "cell_type": "code",
   "execution_count": null,
   "metadata": {},
   "outputs": [],
   "source": [
    "#method to count freq of gendered words and sentences within text of an article\n",
    "#this function takes a list of sentences and applies genderzie function to eval\n",
    "#total number of gendered words and sentences\n",
    "\n",
    "from collections import Counter\n",
    "\n",
    "def count_gender(sentences):\n",
    "    \n",
    "    sents = Counter()\n",
    "    words = Counter()\n",
    "    \n",
    "    for sentence in sentences:\n",
    "        gender = genderize(sentence)\n",
    "        #the += for text is like concatenating something to a list\n",
    "        sents[gender] += 1\n",
    "        words[gender] += len(sentence)\n",
    "    \n",
    "    return (sents, words)\n"
   ]
  },
  {
   "cell_type": "code",
   "execution_count": null,
   "metadata": {},
   "outputs": [],
   "source": [
    "import nltk\n",
    "nltk.download('punkt')\n",
    "\n",
    "def parse_gender(text):\n",
    "    \n",
    "    sentences = [\n",
    "        [word.lower() for word in nltk.word_tokenize(sentence)]\n",
    "        for sentence in nltk.sent_tokenize(text)\n",
    "    ]\n",
    "    \n",
    "    sents, words = count_gender(sentences)\n",
    "    total = sum(words.values())\n",
    "    \n",
    "    for gender, count in words.items():\n",
    "        pcent = (count / total) * 100\n",
    "        nsents = sents[gender]\n",
    "        \n",
    "        print(\n",
    "        \"{:0.1f}% {} ({} sentences)\".format(pcent, gender, nsents)\n",
    "        )"
   ]
  },
  {
   "cell_type": "code",
   "execution_count": null,
   "metadata": {},
   "outputs": [],
   "source": [
    "parse_gender(text_all)"
   ]
  },
  {
   "cell_type": "code",
   "execution_count": null,
   "metadata": {},
   "outputs": [],
   "source": [
    "parse_gender(text_single)"
   ]
  },
  {
   "cell_type": "code",
   "execution_count": null,
   "metadata": {},
   "outputs": [],
   "source": []
  }
 ],
 "metadata": {
  "kernelspec": {
   "display_name": "Python 3",
   "language": "python",
   "name": "python3"
  },
  "language_info": {
   "codemirror_mode": {
    "name": "ipython",
    "version": 3
   },
   "file_extension": ".py",
   "mimetype": "text/x-python",
   "name": "python",
   "nbconvert_exporter": "python",
   "pygments_lexer": "ipython3",
   "version": "3.7.4"
  }
 },
 "nbformat": 4,
 "nbformat_minor": 2
}
