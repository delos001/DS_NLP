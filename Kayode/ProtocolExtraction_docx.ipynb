{
 "cells": [
  {
   "cell_type": "markdown",
   "metadata": {},
   "source": [
    "## Protocol Extraction v0.1\n",
    "\n",
    "#### It is uncertain if Natural Language Processing Techniques can be used to automate the identification of risks from protocols as the foundation for the Adaptive Monitoring Assessment Process."
   ]
  },
  {
   "cell_type": "code",
   "execution_count": 1,
   "metadata": {
    "scrolled": false
   },
   "outputs": [],
   "source": [
    "from docx import Document\n",
    "from docx.shared import Inches\n",
    "\n",
    "import re\n",
    "import nltk\n",
    "from nltk import tokenize\n",
    "from nltk.corpus import stopwords\n",
    "from nltk.stem import PorterStemmer\n",
    "from nltk.tokenize import word_tokenize, sent_tokenize\n",
    "import spacy\n",
    "\n",
    "import sys\n",
    "if not sys.warnoptions:\n",
    "    import warnings\n",
    "    warnings.simplefilter(\"ignore\")"
   ]
  },
  {
   "cell_type": "markdown",
   "metadata": {},
   "source": [
    "## Extract a Segment of the Protocol"
   ]
  },
  {
   "cell_type": "code",
   "execution_count": 2,
   "metadata": {
    "scrolled": true
   },
   "outputs": [],
   "source": [
    "def getSegment(doc, heading):\n",
    "    #heading = 'Inclusion criteria'\n",
    "    document = Document(doc)\n",
    "    i = -1\n",
    "    st = 0\n",
    "    en=0\n",
    "    seg_text =  ''\n",
    "    for para in document.paragraphs:\n",
    "        i += 1\n",
    "        if para.text == heading:\n",
    "            st = i + 1\n",
    "            inc_sty = para.style \n",
    "        if st > 0:\n",
    "            if para.style == inc_sty and i > st:\n",
    "                en = i \n",
    "                break\n",
    "                \n",
    "    for para in document.paragraphs[st:en]:\n",
    "        seg_text += para.text\n",
    "      \n",
    "    \n",
    "    return seg_text"
   ]
  },
  {
   "cell_type": "code",
   "execution_count": 3,
   "metadata": {},
   "outputs": [],
   "source": [
    "def getAllText(doc):\n",
    "    #heading = 'Inclusion criteria'\n",
    "    document = Document(doc)\n",
    "    i = -1\n",
    "    st = 0\n",
    "    en=0\n",
    "    seg_text =  ''\n",
    "    for para in document.paragraphs:\n",
    "        seg_text += para.text\n",
    "      \n",
    "    \n",
    "    return seg_text"
   ]
  },
  {
   "cell_type": "code",
   "execution_count": 4,
   "metadata": {
    "scrolled": true
   },
   "outputs": [],
   "source": [
    "text = getSegment('protocols/Immu09.docx','Inclusion Criteria')\n",
    "#text = getAllText('protocols/Immu09.docx')\n"
   ]
  },
  {
   "cell_type": "markdown",
   "metadata": {},
   "source": [
    "## Pre-process the extracted text\n",
    "\n",
    "Manage the use of colon and periods in the places that are not the end of a sentence.\n",
    "\n",
    "Tokenize - Break bag of words into coherent sentences."
   ]
  },
  {
   "cell_type": "code",
   "execution_count": 5,
   "metadata": {},
   "outputs": [],
   "source": [
    "def sentence_tokens(itext):\n",
    "    #mask all dots between numbers\n",
    "    pattern = re.compile(r'(?<=\\d)[.](?=\\d)')\n",
    "    isatext = pattern.sub('_isadot_',itext)\n",
    "\n",
    "    #prepare sentence for tokenization\n",
    "    isatext = isatext.replace(':', '. ').replace('\\t', ' ').replace('.', '. ')\n",
    "    \n",
    "    sent_text = nltk.sent_tokenize(isatext)\n",
    "\n",
    "    sent_text1 = []\n",
    "    for sen in sent_text:\n",
    "        sent_text1.append(sen.replace('_isadot_', '.'))\n",
    "        \n",
    "    return sent_text1\n"
   ]
  },
  {
   "cell_type": "code",
   "execution_count": 6,
   "metadata": {},
   "outputs": [
    {
     "data": {
      "text/plain": [
       "['Female or male subjects aged ≥18 years at the time of signing the informed consent form (ICF).',\n",
       " 'Documented evidence of hormone receptor-positive HER2-negative (HR+/HER2-) MBC confirmed (local  laboratory)  with  the  most recently available or  newly  obtained tumorbiopsy(within last 12 months) from a locally recurrent or metastatic site(s) and defined per ASCO/CAP criteria as.',\n",
       " 'HR positive (a tumor is considered HR positive if at least 1% of the cells examined have estrogen and/or progesterone receptors).',\n",
       " 'Human epidermal growth factor receptor 2 (HER2) -negative (defined as immunohistochemistry [IHC] ≤2+ or fluorescence in situ hybridization negative).',\n",
       " 'Availability of archival tumor tissue FFPE) block (within 12 months prior to randomization) or newly acquired biopsy (FFPE block) from a metastatic site.',\n",
       " 'Refractory to or relapsed after at least 2, and no more than 4, prior systemic chemotherapy regimens for MBC.',\n",
       " 'Adjuvant or neoadjuvant therapy for early stage disease will qualify as one of the required prior regimens if the development of unresectable, locally advanced or metastatic disease occurred within a 12-month period of time of adjuvant therapy.',\n",
       " 'Note.',\n",
       " 'bone metastases treatments (eg, bisphosphonates, denosumab, etc) and hormonal therapy are not considered as prior systemic treatments for advanced diseaseSubjects should have been previously treated with.',\n",
       " 'Taxanes in any setting.',\n",
       " 'At least 1 prior anticancer hormonal treatment.',\n",
       " 'At least 1 cyclin-dependent kinase inhibitor 4/6 in the metastatic setting.',\n",
       " 'Eligible for one of the chemotherapy options listed in the TPC arm.',\n",
       " 'Documented disease progression after the most recent therapy.',\n",
       " 'At least 1 measurable target lesion according to RECIST 1.1 (bony disease only is not allowed) meeting all of the following criteria.',\n",
       " 'Lymph node (LN) lesion that measures at least one dimension as ≥1.5 cm in the short axis.',\n",
       " 'Non-nodal lesion that measures ≥1.0 cm in the longest diameter.',\n",
       " 'The lesion is suitable for repeat measurement using computerized tomography (CT)/MRI.',\n",
       " 'Lesions that have had external beam radiotherapy (EBRT) or locoregional therapy must show radiographic evidence of disease progression based on RECIST 1.1 to be deemed a target lesion.',\n",
       " 'Brain MRI must be conducted for subjects with a history of brain metastasis.',\n",
       " 'The subject must have had stable* CNS disease for at least 4 weeks.',\n",
       " '* Stable brain metastasis is defined as.',\n",
       " 'Prior local treatment by radiation, surgery, or stereotactic surgery.',\n",
       " 'Imaging – stable or decreasing size after such local treatment.',\n",
       " 'Clinically stable signs and symptoms.',\n",
       " '≥2 weeks from discontinuation of antiseizure medication.',\n",
       " 'Life expectancy of ≥3  months from randomization based on the    Principal Investigator’s assessment.',\n",
       " 'Eastern Cooperative Oncology Group (ECOG) performance status of 0 or 1 (as assessed within 10 days prior to the start of study treatment) (see ).',\n",
       " 'Adequate renal function.',\n",
       " 'calculated creatinine clearance ≥30 mL/minute according to the Cockcroft and Gault formula.',\n",
       " 'Adequate bone marrow function, defined as.',\n",
       " 'Absolute neutrophil count (ANC) >1,500 per mm3Hemoglobin (Hgb) >9.0 g/dLPlatelet count >100,000 per mm3Note.',\n",
       " 'Blood transfusion or growth factor support is not allowed within 14 days prior to screening labs.',\n",
       " 'Adequate liver function, defined as.',\n",
       " 'Total bilirubin ≤1.5×upper limit of normal (ULN).',\n",
       " 'Alanine aminotransferase (ALT), and aspartate aminotransferase (AST) ≤2.5×ULN (in the case of liver metastases ≤5×ULN), and serum albumin ≥3 g/dL.',\n",
       " 'Alkaline phosphatase (ALP) ≤2.5×ULN unless there are bone metastases, in which case liver specific ALP must be separated from the total and used to assess the liver function instead of the total ALP.',\n",
       " 'Resolution of all systemic anticancer therapy-related or radiation-related toxicities to Grade 1 severity or lower, except for stable sensory neuropathy (≤Grade 2) and alopecia.',\n",
       " 'Subjects with Grade 2 neuropathy are eligible but may not receive vinorelbine as TPC.',\n",
       " 'Females must not be lactating or pregnant at Screening or Baseline (as documented by a negative beta human chorionic gonadotropin [ß-hCG] (or human chorionic gonadotropin [hCG]) test with a minimum sensitivity of 25 IU/L or equivalent units of ß-hCG [or hCG]).',\n",
       " 'A separate baseline assessment is required if a negative screening serum pregnancy test was obtained more than 72 hours before the first dose of study drug.',\n",
       " 'All females will be considered to be of childbearing potential unless they are postmenopausal (amenorrheic for at least 12 consecutive months, in the appropriate age group, and without other known or suspected cause) or have been sterilized surgically (ie, bilateral tubal ligation, total hysterectomy or bilateral oophorectomy, all with surgery at least 1 month before dosing).',\n",
       " 'Females of childbearing potential must not have had unprotected sexual intercourse within  30 days before study entry and must agree to use a highly effective method of contraception (total abstinence [if it is their preferred and usual lifestyle], a contraceptive implant, an oral contraceptive, or have a vasectomized partner with confirmed azoospermia) throughout the entire study period and for 120 days after study drug discontinuation.',\n",
       " 'For sites outside of the EU, it is permissible that if a highly effective method of contraception is not appropriate or acceptable to the subject, then the subject must agree to use a medically acceptable method of contraception, ie, double barrier methods of contraception such as condom plus diaphragm or cervical/vault cap with spermicide.',\n",
       " 'If currently abstinent, the subject must agree to use a highly effective method as described above if she becomes sexually active during the study period or for 120 days after study drug discontinuation.',\n",
       " 'Females who are using hormonal contraceptives must have been on a stable dose of the same hormonal contraceptive product for at least 28 days before dosing and must continue to use the same contraceptive during the study and for 120 days after study drug discontinuation.',\n",
       " 'Male subjects who are partners of women of childbearing potential must use a condom and spermicide and their female partners, if of childbearing potential, must use a highly effective method of contraception (see methods described above in Inclusion Criterion #17) beginning at least 1 menstrual cycle prior to starting study drug(s), throughout the entire study period, and for 6 months after the last dose of study drug, unless the male subjects are totally sexually abstinent or have undergone a successful vasectomy with confirmed azoospermia or unless the female partners have been sterilized surgically or are otherwise proven sterile.',\n",
       " 'No sperm donation is allowed during the study period or for 6 months after study drug discontinuation.',\n",
       " 'Subject must be willing and able to comply with all aspects of the protocol.',\n",
       " 'Subject must voluntarily agree to provide written informed consent.',\n",
       " 'Subjects could have received an unlimited number of prior endocrine, biological, or targeted therapies (including taxanes and CD 4/6 inhibitors) in the absence of co-administered chemotherapy; all of these therapies must have been completed 14 days prior to randomization.']"
      ]
     },
     "execution_count": 6,
     "metadata": {},
     "output_type": "execute_result"
    }
   ],
   "source": [
    "sentence_tokens(text)"
   ]
  },
  {
   "cell_type": "code",
   "execution_count": 9,
   "metadata": {},
   "outputs": [
    {
     "name": "stdout",
     "output_type": "stream",
     "text": [
      "There are 51 sentences in all\n"
     ]
    }
   ],
   "source": [
    "print(\"There are {} sentences in all\". format(len(sentence_tokens(text))))"
   ]
  },
  {
   "cell_type": "markdown",
   "metadata": {},
   "source": [
    "## Extractive Summarization - TFIDF Approach (Term Frequency)"
   ]
  },
  {
   "cell_type": "code",
   "execution_count": 13,
   "metadata": {
    "scrolled": false
   },
   "outputs": [],
   "source": [
    "def _create_frequency_table(text_string) -> dict:\n",
    "    \"\"\"\n",
    "    we create a dictionary for the word frequency table.\n",
    "    For this, we should only use the words that are not part of the stopWords array.\n",
    "    Removing stop words and making frequency table\n",
    "    Stemmer - an algorithm to bring words to its root word.\n",
    "    :rtype: dict\n",
    "    \"\"\"\n",
    "    stopWords = set(stopwords.words(\"english\"))\n",
    "    words = word_tokenize(text_string)\n",
    "    ps = PorterStemmer()\n",
    "    #print(len(words))\n",
    "\n",
    "    freqTable = dict()\n",
    "    for word in words:\n",
    "        word = ps.stem(word)\n",
    "        if word in stopWords:\n",
    "            continue\n",
    "        if word in freqTable:\n",
    "            freqTable[word] += 1\n",
    "        else:\n",
    "            freqTable[word] = 1\n",
    "\n",
    "    return freqTable\n",
    "\n",
    "def _score_sentences(sentences, freqTable) -> dict:\n",
    "    \"\"\"\n",
    "    score a sentence by its words\n",
    "    Basic algorithm: adding the frequency of every non-stop word in a sentence divided by total no of words in a sentence.\n",
    "    :rtype: dict\n",
    "    \"\"\"\n",
    "\n",
    "    sentenceValue = dict()\n",
    "\n",
    "    for sentence in sentences:\n",
    "        word_count_in_sentence = (len(word_tokenize(sentence)))\n",
    "        word_count_in_sentence_except_stop_words = 0\n",
    "        for wordValue in freqTable:\n",
    "            if wordValue in sentence.lower():\n",
    "                word_count_in_sentence_except_stop_words += 1\n",
    "                if sentence[:10] in sentenceValue:\n",
    "                    sentenceValue[sentence[:10]] += freqTable[wordValue]\n",
    "                else:\n",
    "                    sentenceValue[sentence[:10]] = freqTable[wordValue]\n",
    "\n",
    "        sentenceValue[sentence[:10]] = sentenceValue[sentence[:10]] / word_count_in_sentence_except_stop_words\n",
    "\n",
    "        '''\n",
    "        Notice that a potential issue with our score algorithm is that long sentences will have an advantage over short sentences. \n",
    "        To solve this, we're dividing every sentence score by the number of words in the sentence.\n",
    "        \n",
    "        Note that here sentence[:10] is the first 10 character of any sentence, this is to save memory while saving keys of\n",
    "        the dictionary.\n",
    "        '''\n",
    "\n",
    "    return sentenceValue\n",
    "\n",
    "\n",
    "def _find_average_score(sentenceValue) -> int:\n",
    "    \"\"\"\n",
    "    Find the average score from the sentence value dictionary\n",
    "    :rtype: int\n",
    "    \"\"\"\n",
    "    sumValues = 0\n",
    "    for entry in sentenceValue:\n",
    "        sumValues += sentenceValue[entry]\n",
    "\n",
    "    # Average value of a sentence from original text\n",
    "    average = (sumValues / len(sentenceValue))\n",
    "\n",
    "    return average\n",
    "\n",
    "\n",
    "def _generate_summary(sentences, sentenceValue, threshold):\n",
    "    sentence_count = 0\n",
    "    summary = ''\n",
    "\n",
    "    for sentence in sentences:\n",
    "        if sentence[:10] in sentenceValue and sentenceValue[sentence[:10]] >= (threshold):\n",
    "            summary += \" \" + sentence\n",
    "            sentence_count += 1\n",
    "\n",
    "    return summary\n",
    "\n",
    "\n",
    "def run_summarization(text):\n",
    "    # 1 Create the word frequency table\n",
    "    freq_table = _create_frequency_table(text)\n",
    "\n",
    "    '''\n",
    "    We already have a sentence tokenizer, so we just need \n",
    "    to run the sent_tokenize() method to create the array of sentences.\n",
    "    '''\n",
    "\n",
    "    # 2 Tokenize the sentences\n",
    "    #sentences = sent_tokenize(text)\n",
    "    sentences = sentence_tokens(text)\n",
    "\n",
    "    # 3 Important Algorithm: score the sentences\n",
    "    sentence_scores = _score_sentences(sentences, freq_table)\n",
    "\n",
    "    # 4 Find the threshold\n",
    "    threshold = _find_average_score(sentence_scores)\n",
    "\n",
    "    # 5 Important Algorithm: Generate the summary\n",
    "    summary = _generate_summary(sentences, sentence_scores, 1.1 * threshold)\n",
    "\n",
    "    return summary\n",
    "\n",
    "if __name__ == '__main__':\n",
    "    result = run_summarization(text)\n",
    "   # print(sentence_tokens(result))"
   ]
  },
  {
   "cell_type": "code",
   "execution_count": 14,
   "metadata": {},
   "outputs": [
    {
     "data": {
      "text/plain": [
       "[' Female or male subjects aged ≥18 years at the time of signing the informed consent form (ICF).',\n",
       " 'HR positive (a tumor is considered HR positive if at least 1% of the cells examined have estrogen and/or progesterone receptors).',\n",
       " 'Availability of archival tumor tissue FFPE) block (within 12 months prior to randomization) or newly acquired biopsy (FFPE block) from a metastatic site.',\n",
       " 'Refractory to or relapsed after at least 2, and no more than 4, prior systemic chemotherapy regimens for MBC.',\n",
       " 'bone metastases treatments (eg, bisphosphonates, denosumab, etc) and hormonal therapy are not considered as prior systemic treatments for advanced diseaseSubjects should have been previously treated with.',\n",
       " 'Taxanes in any setting.',\n",
       " 'At least 1 prior anticancer hormonal treatment.',\n",
       " 'At least 1 cyclin-dependent kinase inhibitor 4/6 in the metastatic setting.',\n",
       " 'At least 1 measurable target lesion according to RECIST 1.1 (bony disease only is not allowed) meeting all of the following criteria.',\n",
       " 'Lymph node (LN) lesion that measures at least one dimension as ≥1.5 cm in the short axis.',\n",
       " 'The lesion is suitable for repeat measurement using computerized tomography (CT)/MRI.',\n",
       " 'Lesions that have had external beam radiotherapy (EBRT) or locoregional therapy must show radiographic evidence of disease progression based on RECIST 1.1 to be deemed a target lesion.',\n",
       " 'Prior local treatment by radiation, surgery, or stereotactic surgery.',\n",
       " 'Adequate bone marrow function, defined as.',\n",
       " 'Absolute neutrophil count (ANC) >1,500 per mm3Hemoglobin (Hgb) >9.0 g/dLPlatelet count >100,000 per mm3Note.',\n",
       " 'Adequate liver function, defined as.',\n",
       " 'Total bilirubin ≤1.5×upper limit of normal (ULN).',\n",
       " 'Alanine aminotransferase (ALT), and aspartate aminotransferase (AST) ≤2.5×ULN (in the case of liver metastases ≤5×ULN), and serum albumin ≥3 g/dL.',\n",
       " 'Alkaline phosphatase (ALP) ≤2.5×ULN unless there are bone metastases, in which case liver specific ALP must be separated from the total and used to assess the liver function instead of the total ALP.',\n",
       " 'Resolution of all systemic anticancer therapy-related or radiation-related toxicities to Grade 1 severity or lower, except for stable sensory neuropathy (≤Grade 2) and alopecia.',\n",
       " 'Subjects could have received an unlimited number of prior endocrine, biological, or targeted therapies (including taxanes and CD 4/6 inhibitors) in the absence of co-administered chemotherapy; all of these therapies must have been completed 14 days prior to randomization.']"
      ]
     },
     "execution_count": 14,
     "metadata": {},
     "output_type": "execute_result"
    }
   ],
   "source": [
    "list((sentence_tokens(result)))"
   ]
  },
  {
   "cell_type": "code",
   "execution_count": 16,
   "metadata": {},
   "outputs": [
    {
     "name": "stdout",
     "output_type": "stream",
     "text": [
      "The sentences have been summarised into 21 \n"
     ]
    }
   ],
   "source": [
    "print(\"The sentences have been summarised into {} \". format(len(sentence_tokens(result))))"
   ]
  },
  {
   "cell_type": "code",
   "execution_count": null,
   "metadata": {},
   "outputs": [],
   "source": []
  },
  {
   "cell_type": "code",
   "execution_count": null,
   "metadata": {},
   "outputs": [],
   "source": []
  },
  {
   "cell_type": "code",
   "execution_count": null,
   "metadata": {},
   "outputs": [],
   "source": []
  },
  {
   "cell_type": "code",
   "execution_count": null,
   "metadata": {},
   "outputs": [],
   "source": []
  },
  {
   "cell_type": "code",
   "execution_count": null,
   "metadata": {},
   "outputs": [],
   "source": []
  },
  {
   "cell_type": "code",
   "execution_count": null,
   "metadata": {},
   "outputs": [],
   "source": []
  },
  {
   "cell_type": "code",
   "execution_count": null,
   "metadata": {},
   "outputs": [],
   "source": []
  },
  {
   "cell_type": "code",
   "execution_count": null,
   "metadata": {},
   "outputs": [],
   "source": []
  },
  {
   "cell_type": "code",
   "execution_count": null,
   "metadata": {},
   "outputs": [],
   "source": []
  },
  {
   "cell_type": "code",
   "execution_count": null,
   "metadata": {},
   "outputs": [],
   "source": []
  },
  {
   "cell_type": "code",
   "execution_count": null,
   "metadata": {},
   "outputs": [],
   "source": []
  },
  {
   "cell_type": "markdown",
   "metadata": {},
   "source": [
    "\n",
    "PDFMIner - https://www.binpress.com/manipulate-pdf-python/\n",
    "\n",
    "BeautifulSoup - https://www.dataquest.io/blog/web-scraping-tutorial-python/\n",
    "\n",
    "PyTextRank - https://medium.com/@aneesha/beyond-bag-of-words-using-pytextrank-to-find-phrases-and-summarize-text-f736fa3773c5\n",
    "\n",
    "Text Summarization with NLTK in Python - https://stackabuse.com/text-summarization-with-nltk-in-python/\n",
    "\n",
    "Text summarization in 5 steps using NLTK - https://becominghuman.ai/text-summarization-in-5-steps-using-nltk-65b21e352b65\n",
    "\n",
    "TFIDF - https://towardsdatascience.com/tfidf-for-piece-of-text-in-python-43feccaa74f8\n",
    "\n",
    "NLP For Topic Modeling Summarization Of Financial Documents  https://blog.usejournal.com/nlp-for-topic-modeling-summarization-of-financial-documents-10-k-q-93070db96c1d"
   ]
  },
  {
   "cell_type": "markdown",
   "metadata": {},
   "source": [
    "This is a nice subject to play with LDA on! It might also be cool to see how treating individual sentences as documents could affect topics. Computationally more expensive, but it might be feasible.\n",
    "\n",
    "https://towardsdatascience.com/basic-nlp-on-the-texts-of-harry-potter-topic-modeling-with-latent-dirichlet-allocation-f3c00f77b0f5"
   ]
  }
 ],
 "metadata": {
  "kernelspec": {
   "display_name": "Python 3",
   "language": "python",
   "name": "python3"
  },
  "language_info": {
   "codemirror_mode": {
    "name": "ipython",
    "version": 3
   },
   "file_extension": ".py",
   "mimetype": "text/x-python",
   "name": "python",
   "nbconvert_exporter": "python",
   "pygments_lexer": "ipython3",
   "version": "3.7.1"
  }
 },
 "nbformat": 4,
 "nbformat_minor": 2
}
