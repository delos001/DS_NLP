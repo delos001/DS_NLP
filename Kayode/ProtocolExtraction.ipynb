{
 "cells": [
  {
   "cell_type": "code",
   "execution_count": 1,
   "metadata": {
    "scrolled": false
   },
   "outputs": [
    {
     "name": "stderr",
     "output_type": "stream",
     "text": [
      "C:\\Users\\AyankoyaKayode\\AppData\\Local\\Continuum\\anaconda3\\lib\\site-packages\\requests\\__init__.py:91: RequestsDependencyWarning: urllib3 (1.24.1) or chardet (2.3.0) doesn't match a supported version!\n",
      "  RequestsDependencyWarning)\n"
     ]
    }
   ],
   "source": [
    "import PyPDF2,nltk\n",
    "import easytextract\n",
    "import sys\n",
    "\n",
    "from docx import Document\n",
    "from docx.shared import Inches\n",
    "\n",
    "#PDF MIner\n",
    "from pdfminer.pdfparser import PDFParser\n",
    "from pdfminer.pdfdocument import PDFDocument\n",
    "from pdfminer.layout import LAParams\n",
    "from pdfminer.converter import PDFPageAggregator\n",
    "from pdfminer.pdfpage import PDFPage\n",
    "from pdfminer.layout import LTTextBoxHorizontal\n",
    "from pdfminer.pdfinterp import PDFResourceManager, PDFPageInterpreter\n",
    "from pdfminer.converter import TextConverter, HTMLConverter\n",
    "import pandas as pd\n",
    "import re\n",
    "\n",
    "from io import StringIO, BytesIO\n",
    "from bs4 import BeautifulSoup\n",
    "import requests\n",
    "\n",
    "if not sys.warnoptions:\n",
    "    import warnings\n",
    "    warnings.simplefilter(\"ignore\")"
   ]
  },
  {
   "cell_type": "code",
   "execution_count": null,
   "metadata": {
    "scrolled": true
   },
   "outputs": [],
   "source": [
    "# Get table of content using PDFMiner.\n",
    "fp = open('protocols/Immu09.pdf', 'rb')\n",
    "parser = PDFParser(fp)\n",
    "document = PDFDocument(parser)\n",
    "#Get the outlines of the document.\n",
    "outlines = document.get_outlines()\n",
    "\n",
    "#Get Entire protocol as string\n",
    "full_protocol= PyPDF2.PdfFileReader(fp)"
   ]
  },
  {
   "cell_type": "code",
   "execution_count": null,
   "metadata": {},
   "outputs": [],
   "source": [
    "df = pd.DataFrame(list(outlines))"
   ]
  },
  {
   "cell_type": "code",
   "execution_count": null,
   "metadata": {},
   "outputs": [],
   "source": [
    "df.columns = [\"chapter\", \"title\", \"obj\", \"se\", \"a\"]\n",
    "\n",
    "#Get index and full title of inclusion criteria\n",
    "inc_idx = df.index[df[\"title\"].str.contains(\"Inclusion\", na=False)]\n",
    "inc_title = df[df[\"title\"].str.contains(\"Inclusion\", na=False)]['title'].to_string(index=False)\n",
    "\n",
    "#Get index and title of section that follows inclusion criteria\n",
    "inc_idx_end = inc_idx + 1\n",
    "inc_title_end = df.iloc[inc_idx_end, :]['title'].to_string(index=False)\n",
    "\n",
    "#Get index and title of section before inclusion criteria\n",
    "inc_idx_pre = inc_idx -1\n",
    "inc_title_pre = df.iloc[inc_idx_pre, :]['title'].to_string(index=False)"
   ]
  },
  {
   "cell_type": "code",
   "execution_count": null,
   "metadata": {},
   "outputs": [],
   "source": [
    "inc_title"
   ]
  },
  {
   "cell_type": "code",
   "execution_count": null,
   "metadata": {},
   "outputs": [],
   "source": [
    "inc_title_end"
   ]
  },
  {
   "cell_type": "code",
   "execution_count": null,
   "metadata": {},
   "outputs": [],
   "source": [
    "inc_title_pre"
   ]
  },
  {
   "cell_type": "code",
   "execution_count": null,
   "metadata": {},
   "outputs": [],
   "source": []
  },
  {
   "cell_type": "code",
   "execution_count": null,
   "metadata": {},
   "outputs": [],
   "source": [
    "#Function to convert PDF to Text\n",
    "def convert_pdf_to_txt(path):\n",
    "    rsrcmgr = PDFResourceManager()\n",
    "    retstr = StringIO()\n",
    "    codec = 'utf-8'\n",
    "    laparams = LAParams()\n",
    "    device = TextConverter(rsrcmgr, retstr, codec=codec, laparams=laparams)\n",
    "    fp = open(path, 'rb')\n",
    "    interpreter = PDFPageInterpreter(rsrcmgr, device)\n",
    "    password = \"\"\n",
    "    maxpages = 0\n",
    "    caching = True\n",
    "    pagenos=set()\n",
    "\n",
    "    for page in PDFPage.get_pages(fp, pagenos, maxpages=maxpages, password=password,caching=caching, check_extractable=True):\n",
    "        interpreter.process_page(page)\n",
    "\n",
    "    text = retstr.getvalue()\n",
    "\n",
    "    fp.close()\n",
    "    device.close()\n",
    "    retstr.close()\n",
    "    return text\n",
    "\n",
    "def find_between( s, first, last ):\n",
    "    try:\n",
    "        start = s.index( first ) + len( first )\n",
    "        end = s.index( last, start )\n",
    "        return s[start:end]\n",
    "    except ValueError:\n",
    "        return \"\"\n",
    "    \n",
    "def convert_pdf_to_html(path):\n",
    "    rsrcmgr = PDFResourceManager()\n",
    "    retstr = BytesIO()\n",
    "    codec = 'utf-8'\n",
    "    laparams = LAParams()\n",
    "    \n",
    "    device = HTMLConverter(rsrcmgr, retstr, codec=codec, laparams=laparams)\n",
    "    fp = open(path, 'rb')\n",
    "    interpreter = PDFPageInterpreter(rsrcmgr, device)\n",
    "    password = \"\"\n",
    "    maxpages = 0 #is for all\n",
    "    caching = True\n",
    "    pagenos=set()\n",
    "    for page in PDFPage.get_pages(fp, pagenos, maxpages=maxpages, password=password,caching=caching, check_extractable=True):\n",
    "        interpreter.process_page(page)\n",
    "    fp.close()\n",
    "    device.close()\n",
    "    str = retstr.getvalue()\n",
    "    retstr.close()\n",
    "    return str\n",
    "\n",
    "#Split Document by headings\n",
    "def iter_headings(paragraphs):\n",
    "    for paragraph in paragraphs:\n",
    "        if paragraph.style.name.startswith('Heading'):\n",
    "            yield paragraph\n",
    "\n",
    "#for heading in iter_headings(document.paragraphs):\n",
    "#    print (heading.text)"
   ]
  },
  {
   "cell_type": "code",
   "execution_count": null,
   "metadata": {},
   "outputs": [],
   "source": [
    "txtprotocol = convert_pdf_to_txt('protocols/Immu09.docx')\n",
    "#txtprotocol = bytes(txtprotocol, 'utf-8').decode('utf-8', 'ignore')"
   ]
  },
  {
   "cell_type": "code",
   "execution_count": null,
   "metadata": {},
   "outputs": [],
   "source": [
    "htmlprotocol = convert_pdf_to_html('protocols/Immu09.pdf')\n",
    "soup = BeautifulSoup(htmlprotocol, 'html.parser')"
   ]
  },
  {
   "cell_type": "code",
   "execution_count": null,
   "metadata": {
    "scrolled": false
   },
   "outputs": [],
   "source": [
    "#htm = soup.prettify()\n",
    "#htm"
   ]
  },
  {
   "cell_type": "code",
   "execution_count": null,
   "metadata": {},
   "outputs": [],
   "source": [
    "with open(\"protocols/outputx.txt\", \"w\") as file:\n",
    "    file.write(str(htm.encode('utf-8')))"
   ]
  },
  {
   "cell_type": "code",
   "execution_count": null,
   "metadata": {},
   "outputs": [],
   "source": [
    "with open(\"protocols/output.txt\", \"w\") as file:\n",
    "    file.write(str(txtprotocol.encode('utf-8')))"
   ]
  },
  {
   "cell_type": "code",
   "execution_count": 42,
   "metadata": {},
   "outputs": [],
   "source": [
    "document = Document('protocols/Immu09.docx')\n"
   ]
  },
  {
   "cell_type": "code",
   "execution_count": 92,
   "metadata": {},
   "outputs": [
    {
     "name": "stdout",
     "output_type": "stream",
     "text": [
      "Inclusion Criteria\n",
      "Female or male subjects aged ≥18 years at the time of signing the informed consent form (ICF).\n",
      "Documented evidence of hormone receptor-positive HER2-negative (HR+/HER2-) MBC confirmed\t(local  laboratory)  with  the  most recently available\tor  newly  obtained tumor\n",
      "\n",
      "\n",
      "biopsy(within last 12 months) from a locally recurrent or metastatic site(s) and defined per ASCO/CAP criteria as:\n",
      "HR positive (a tumor is considered HR positive if at least 1% of the cells examined have estrogen and/or progesterone receptors).\n",
      "Human\tepidermal\tgrowth\tfactor\treceptor\t2\t(HER2)\t-negative\t(defined\tas immunohistochemistry [IHC] ≤2+ or fluorescence in situ hybridization negative).\n",
      "Availability of archival tumor tissue FFPE) block (within 12 months prior to randomization) or newly acquired biopsy (FFPE block) from a metastatic site.\n",
      "Refractory to or relapsed after at least 2, and no more than 4, prior systemic chemotherapy regimens for MBC. Adjuvant or neoadjuvant therapy for early stage disease will qualify as one of the required prior regimens if the development of unresectable, locally advanced or metastatic disease occurred within a 12-month period of time of adjuvant therapy. Note: bone metastases treatments (eg, bisphosphonates, denosumab, etc) and hormonal therapy are not considered as prior systemic treatments for advanced disease\n",
      "Subjects should have been previously treated with:\n",
      "Taxanes in any setting.\n",
      "At least 1 prior anticancer hormonal treatment.\n",
      "At least 1 cyclin-dependent kinase inhibitor 4/6 in the metastatic setting.\n",
      "Eligible for one of the chemotherapy options listed in the TPC arm.\n",
      "Documented disease progression after the most recent therapy.\n",
      "At least 1 measurable target lesion according to RECIST 1.1 (bony disease only is not allowed) meeting all of the following criteria:\n",
      "Lymph node (LN) lesion that measures at least one dimension as ≥1.5 cm in the short axis.\n",
      "Non-nodal lesion that measures ≥1.0 cm in the longest diameter.\n",
      "The lesion is suitable for repeat measurement using computerized tomography (CT)/MRI.\n",
      "Lesions that have had external beam radiotherapy (EBRT) or locoregional therapy must show radiographic evidence of disease progression based on RECIST 1.1 to be deemed a target lesion.\n",
      "Brain MRI must be conducted for subjects with a history of brain metastasis. The subject must have had stable* CNS disease for at least 4 weeks.\n",
      "* Stable brain metastasis is defined as:\n",
      "Prior local treatment by radiation, surgery, or stereotactic surgery.\n",
      "Imaging – stable or decreasing size after such local treatment.\n",
      "Clinically stable signs and symptoms.\n",
      "≥2 weeks from discontinuation of antiseizure medication.\n",
      "\n",
      "Life expectancy of\t≥3  months from randomization based on the    Principal Investigator’s assessment.\n",
      "Eastern Cooperative Oncology Group (ECOG) performance status of 0 or 1 (as assessed within 10 days prior to the start of study treatment) (see ).\n",
      "Adequate renal function: calculated creatinine clearance ≥30 mL/minute according to the Cockcroft and Gault formula.\n",
      "Adequate bone marrow function, defined as:\n",
      "Absolute neutrophil count (ANC) >1,500 per mm3\n",
      "Hemoglobin (Hgb) >9.0 g/dL\n",
      "\n",
      "\n",
      "Platelet count >100,000 per mm3\n",
      "Note: Blood transfusion or growth factor support is not allowed within 14 days prior to screening labs.\n",
      "Adequate liver function, defined as:\n",
      "Total bilirubin ≤1.5×upper limit of normal (ULN).\n",
      "Alanine aminotransferase (ALT), and aspartate aminotransferase (AST) ≤2.5×ULN (in the case of liver metastases ≤5×ULN), and serum albumin ≥3 g/dL.\n",
      "Alkaline phosphatase (ALP) ≤2.5×ULN unless there are bone metastases, in which case liver specific ALP must be separated from the total and used to assess the liver function instead of the total ALP.\n",
      "Resolution of all systemic anticancer therapy-related or radiation-related toxicities to Grade 1 severity or lower, except for stable sensory neuropathy (≤Grade 2) and alopecia. Subjects with Grade 2 neuropathy are eligible but may not receive vinorelbine as TPC.\n",
      "Females must not be lactating or pregnant at Screening or Baseline (as documented by a negative beta human chorionic gonadotropin [ß-hCG] (or human chorionic gonadotropin [hCG]) test with a minimum sensitivity of 25 IU/L or equivalent units of ß-hCG [or hCG]). A separate baseline assessment is required if a negative screening serum pregnancy test was obtained more than 72 hours before the first dose of study drug.\n",
      "All females will be considered to be of childbearing potential unless they are postmenopausal (amenorrheic for at least 12 consecutive months, in the appropriate age group, and without other known or suspected cause) or have been sterilized surgically (ie, bilateral tubal ligation, total hysterectomy or bilateral oophorectomy, all with surgery at least 1 month before dosing).\n",
      "Females of childbearing potential must not have had unprotected sexual intercourse within  30 days before study entry and must agree to use a highly effective method of contraception (total abstinence [if it is their preferred and usual lifestyle], a contraceptive implant, an oral contraceptive, or have a vasectomized partner with confirmed azoospermia) throughout the entire study period and for 120 days after study drug discontinuation. For sites outside of the EU, it is permissible that if a highly effective method of contraception is not appropriate or acceptable to the subject, then the subject must agree to use a medically acceptable method of contraception, ie, double barrier methods of contraception such as condom plus diaphragm or cervical/vault cap with spermicide. If currently abstinent, the subject must agree to use a highly effective method as described above if she becomes sexually active during the study period or for 120 days after study drug discontinuation. Females who are using hormonal contraceptives must have been on a stable dose of the same hormonal contraceptive product for at least 28 days before dosing and must continue to use the same contraceptive during the study and for 120 days after study drug discontinuation.\n",
      "Male subjects who are partners of women of childbearing potential must use a condom and spermicide and their female partners, if of childbearing potential, must use a highly effective method of contraception (see methods described above in Inclusion Criterion #17) beginning at least 1 menstrual cycle prior to starting study drug(s), throughout the entire study period, and for 6 months after the last dose of study drug, unless the male subjects are totally sexually abstinent or have undergone a successful vasectomy with confirmed azoospermia or unless the female partners have been sterilized surgically or are otherwise proven sterile. No sperm donation is allowed during the study period or for 6 months after study drug discontinuation.\n",
      "Subject must be willing and able to comply with all aspects of the protocol.\n",
      "\n",
      "\n",
      "Subject must voluntarily agree to provide written informed consent.\n",
      "Subjects could have received an unlimited number of prior endocrine, biological, or targeted therapies (including taxanes and CD 4/6 inhibitors) in the absence of co-administered chemotherapy; all of these therapies must have been completed 14 days prior to randomization.\n",
      "\n"
     ]
    }
   ],
   "source": [
    "inc = 'Inclusion Criteria'\n",
    "inc_end = 'Exclusion Criteria'\n",
    "i = -1\n",
    "st = 0\n",
    "en=0\n",
    "for para in document.paragraphs:\n",
    "    i += 1\n",
    "    if para.text == inc:\n",
    "        st = i     \n",
    "    elif para.text == inc_end:\n",
    "        en = i\n",
    "    \n",
    "for para in document.paragraphs[st:en]:\n",
    "    print(para.text)   \n",
    "    "
   ]
  },
  {
   "cell_type": "code",
   "execution_count": 67,
   "metadata": {},
   "outputs": [
    {
     "name": "stdout",
     "output_type": "stream",
     "text": [
      "<docx.text.paragraph.Paragraph object at 0x000001DCC52752E8>\n"
     ]
    }
   ],
   "source": [
    "a = list(document.paragraphs)\n",
    "\n",
    "print(a[50])"
   ]
  },
  {
   "cell_type": "code",
   "execution_count": null,
   "metadata": {},
   "outputs": [],
   "source": [
    "allprot = re.split('\\n\\n',txtprotocol)"
   ]
  },
  {
   "cell_type": "code",
   "execution_count": null,
   "metadata": {},
   "outputs": [],
   "source": [
    "t = [\"a\", \"n\", \"d\"]\n",
    "\n",
    "for i in t:\n",
    "    print (str(i))"
   ]
  },
  {
   "cell_type": "code",
   "execution_count": null,
   "metadata": {},
   "outputs": [],
   "source": []
  },
  {
   "cell_type": "code",
   "execution_count": null,
   "metadata": {
    "scrolled": true
   },
   "outputs": [],
   "source": [
    "crit1 = []\n",
    "\n",
    "inc = 'Inclusion Criteria'\n",
    "inc_end = 'Exclusion Criteria'\n",
    "for i in allprot:\n",
    "    if i == inc:\n",
    "        st = allprot.index(i)\n",
    "        print(st)\n",
    "    elif i == inc_end:\n",
    "        en = allprot.index(i)\n",
    "    if allprot.index(i) >= st or allprot.index(i) < en:\n",
    "        if 'Exclusion Criteria\\n' in str(i):\n",
    "            break\n",
    "        crit1.append(i)\n",
    "     \n",
    "\n",
    "crit1"
   ]
  },
  {
   "cell_type": "code",
   "execution_count": null,
   "metadata": {},
   "outputs": [],
   "source": [
    "a"
   ]
  },
  {
   "cell_type": "code",
   "execution_count": null,
   "metadata": {},
   "outputs": [],
   "source": [
    "\n",
    "inc_title = \"\\n\\nInclusion Criteria\\n\\n\"\n",
    "inc_title_end = \"\\n\\nExclusion Criteria\\n\\n\""
   ]
  },
  {
   "cell_type": "code",
   "execution_count": null,
   "metadata": {},
   "outputs": [],
   "source": [
    "Inc_ = find_between(allprot.upper(),inc_title.replace('\\\\t', ' ').upper(),inc_title_end.replace('\\\\t', ' ').upper())"
   ]
  },
  {
   "cell_type": "code",
   "execution_count": null,
   "metadata": {},
   "outputs": [],
   "source": [
    "Inc_"
   ]
  },
  {
   "cell_type": "code",
   "execution_count": null,
   "metadata": {},
   "outputs": [],
   "source": [
    "inc_title.replace('\\\\t', ' ').upper()"
   ]
  },
  {
   "cell_type": "code",
   "execution_count": null,
   "metadata": {},
   "outputs": [],
   "source": []
  },
  {
   "cell_type": "code",
   "execution_count": null,
   "metadata": {},
   "outputs": [],
   "source": [
    "text_file = open('protocols/as0007.txt', 'w',  encoding='utf8')\n",
    "text_file.write(allprotocol.upper())\n",
    "text_file.close()"
   ]
  },
  {
   "cell_type": "code",
   "execution_count": null,
   "metadata": {},
   "outputs": [],
   "source": []
  },
  {
   "cell_type": "code",
   "execution_count": null,
   "metadata": {},
   "outputs": [],
   "source": []
  },
  {
   "cell_type": "code",
   "execution_count": null,
   "metadata": {},
   "outputs": [],
   "source": []
  },
  {
   "cell_type": "code",
   "execution_count": null,
   "metadata": {},
   "outputs": [],
   "source": []
  },
  {
   "cell_type": "code",
   "execution_count": null,
   "metadata": {},
   "outputs": [],
   "source": []
  },
  {
   "cell_type": "code",
   "execution_count": null,
   "metadata": {},
   "outputs": [],
   "source": []
  },
  {
   "cell_type": "code",
   "execution_count": null,
   "metadata": {},
   "outputs": [],
   "source": []
  },
  {
   "cell_type": "code",
   "execution_count": null,
   "metadata": {},
   "outputs": [],
   "source": []
  },
  {
   "cell_type": "code",
   "execution_count": null,
   "metadata": {},
   "outputs": [],
   "source": []
  },
  {
   "cell_type": "code",
   "execution_count": null,
   "metadata": {},
   "outputs": [],
   "source": []
  },
  {
   "cell_type": "code",
   "execution_count": null,
   "metadata": {},
   "outputs": [],
   "source": []
  },
  {
   "cell_type": "code",
   "execution_count": null,
   "metadata": {},
   "outputs": [],
   "source": []
  },
  {
   "cell_type": "code",
   "execution_count": null,
   "metadata": {},
   "outputs": [],
   "source": []
  },
  {
   "cell_type": "code",
   "execution_count": null,
   "metadata": {},
   "outputs": [],
   "source": []
  },
  {
   "cell_type": "code",
   "execution_count": null,
   "metadata": {},
   "outputs": [],
   "source": []
  },
  {
   "cell_type": "code",
   "execution_count": null,
   "metadata": {},
   "outputs": [],
   "source": []
  },
  {
   "cell_type": "code",
   "execution_count": null,
   "metadata": {},
   "outputs": [],
   "source": []
  },
  {
   "cell_type": "code",
   "execution_count": null,
   "metadata": {},
   "outputs": [],
   "source": []
  },
  {
   "cell_type": "code",
   "execution_count": null,
   "metadata": {},
   "outputs": [],
   "source": []
  },
  {
   "cell_type": "code",
   "execution_count": null,
   "metadata": {},
   "outputs": [],
   "source": []
  },
  {
   "cell_type": "code",
   "execution_count": null,
   "metadata": {},
   "outputs": [],
   "source": []
  },
  {
   "cell_type": "code",
   "execution_count": null,
   "metadata": {},
   "outputs": [],
   "source": [
    "file = open('protocols/Immu09.pdf', 'rb')\n",
    "pdfReader = PyPDF2.PdfFileReader(file)\n",
    "aa = ''\n",
    "for i in range(pdfReader.numPages):\n",
    "    #print(i)\n",
    "    pageObj=pdfReader.getPage(i)\n",
    "    text = pageObj.extractText()\n",
    "    aa = aa + text \n"
   ]
  },
  {
   "cell_type": "markdown",
   "metadata": {},
   "source": []
  },
  {
   "cell_type": "markdown",
   "metadata": {},
   "source": [
    "\n",
    "PDFMIner - https://www.binpress.com/manipulate-pdf-python/\n",
    "\n",
    "BeautifulSoup - https://www.dataquest.io/blog/web-scraping-tutorial-python/"
   ]
  }
 ],
 "metadata": {
  "kernelspec": {
   "display_name": "Python 3",
   "language": "python",
   "name": "python3"
  },
  "language_info": {
   "codemirror_mode": {
    "name": "ipython",
    "version": 3
   },
   "file_extension": ".py",
   "mimetype": "text/x-python",
   "name": "python",
   "nbconvert_exporter": "python",
   "pygments_lexer": "ipython3",
   "version": "3.7.1"
  }
 },
 "nbformat": 4,
 "nbformat_minor": 2
}
